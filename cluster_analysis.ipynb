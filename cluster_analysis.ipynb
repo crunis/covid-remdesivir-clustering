{
 "cells": [
  {
   "cell_type": "code",
   "execution_count": 1,
   "id": "4ea8672e-6faa-4aa7-8a5b-c314bc0e1759",
   "metadata": {},
   "outputs": [],
   "source": [
    "# %matplotlib widget\n",
    "import pandas as pd\n",
    "import numpy as np\n",
    "import tools as t\n",
    "from scipy.stats import ttest_ind, chisquare\n",
    "from collections import Counter\n",
    "import pickle\n",
    "\n",
    "from sklearn.cluster import KMeans\n",
    "from sklearn.decomposition import PCA\n",
    "from sklearn.metrics import silhouette_score, adjusted_rand_score\n",
    "from sklearn.pipeline import Pipeline\n",
    "\n",
    "import matplotlib.pyplot as plt\n",
    "import datetime\n",
    "\n",
    "import plotly.graph_objects as go\n",
    "\n",
    "import seaborn as sns"
   ]
  },
  {
   "cell_type": "markdown",
   "id": "a19e59a7-83a3-446d-b19c-8c937561dfea",
   "metadata": {
    "tags": []
   },
   "source": [
    "# Init stuff"
   ]
  },
  {
   "cell_type": "markdown",
   "id": "eb8435cf-941a-4770-8852-f20b0ee6a1ff",
   "metadata": {
    "tags": []
   },
   "source": [
    "## load kcenters"
   ]
  },
  {
   "cell_type": "code",
   "execution_count": 2,
   "id": "66889fff-6c27-4f6b-9f10-c23c0178a390",
   "metadata": {},
   "outputs": [
    {
     "data": {
      "text/html": [
       "<div>\n",
       "<style scoped>\n",
       "    .dataframe tbody tr th:only-of-type {\n",
       "        vertical-align: middle;\n",
       "    }\n",
       "\n",
       "    .dataframe tbody tr th {\n",
       "        vertical-align: top;\n",
       "    }\n",
       "\n",
       "    .dataframe thead th {\n",
       "        text-align: right;\n",
       "    }\n",
       "</style>\n",
       "<table border=\"1\" class=\"dataframe\">\n",
       "  <thead>\n",
       "    <tr style=\"text-align: right;\">\n",
       "      <th></th>\n",
       "      <th>ct</th>\n",
       "      <th>ddxcov</th>\n",
       "      <th>linfocitos</th>\n",
       "    </tr>\n",
       "  </thead>\n",
       "  <tbody>\n",
       "    <tr>\n",
       "      <th>0</th>\n",
       "      <td>0.682468</td>\n",
       "      <td>0.635464</td>\n",
       "      <td>0.227487</td>\n",
       "    </tr>\n",
       "    <tr>\n",
       "      <th>1</th>\n",
       "      <td>0.626177</td>\n",
       "      <td>0.226799</td>\n",
       "      <td>0.454241</td>\n",
       "    </tr>\n",
       "    <tr>\n",
       "      <th>2</th>\n",
       "      <td>0.716184</td>\n",
       "      <td>0.140868</td>\n",
       "      <td>0.191120</td>\n",
       "    </tr>\n",
       "    <tr>\n",
       "      <th>3</th>\n",
       "      <td>0.746602</td>\n",
       "      <td>0.375494</td>\n",
       "      <td>0.199620</td>\n",
       "    </tr>\n",
       "    <tr>\n",
       "      <th>4</th>\n",
       "      <td>0.548729</td>\n",
       "      <td>0.330954</td>\n",
       "      <td>0.184573</td>\n",
       "    </tr>\n",
       "    <tr>\n",
       "      <th>5</th>\n",
       "      <td>0.454371</td>\n",
       "      <td>0.108235</td>\n",
       "      <td>0.171471</td>\n",
       "    </tr>\n",
       "  </tbody>\n",
       "</table>\n",
       "</div>"
      ],
      "text/plain": [
       "         ct    ddxcov  linfocitos\n",
       "0  0.682468  0.635464    0.227487\n",
       "1  0.626177  0.226799    0.454241\n",
       "2  0.716184  0.140868    0.191120\n",
       "3  0.746602  0.375494    0.199620\n",
       "4  0.548729  0.330954    0.184573\n",
       "5  0.454371  0.108235    0.171471"
      ]
     },
     "execution_count": 2,
     "metadata": {},
     "output_type": "execute_result"
    }
   ],
   "source": [
    "MAX_CT = 41.7\n",
    "MAX_DDXCOV = 22\n",
    "MAX_LINFOCITOS = 4.2\n",
    "\n",
    "k_centers_rename = {\n",
    "    'Ct': 'ct',\n",
    "    'DeltaDDXCOVSimptomes': 'ddxcov',\n",
    "    'Linfocitos_ing': 'linfocitos'\n",
    "}\n",
    "k_centers = pd.read_csv('k_centers.csv').rename(columns=k_centers_rename)\n",
    "k_centers"
   ]
  },
  {
   "cell_type": "markdown",
   "id": "a36f028a-0ea7-409d-98d5-00d75f34a5dc",
   "metadata": {
    "jp-MarkdownHeadingCollapsed": true,
    "tags": []
   },
   "source": [
    "## Shared functions"
   ]
  },
  {
   "cell_type": "code",
   "execution_count": 3,
   "id": "e7cce4d9-8f31-4331-810e-489f6813d5e3",
   "metadata": {
    "tags": []
   },
   "outputs": [],
   "source": [
    "def perc(value, decimals=1):\n",
    "    return round(100*value, decimals)\n",
    "\n",
    "\n",
    "def compute_perc(df, stat_columns=[], remde_delay=None, recycle_remde_delay=True, remde_dead_threshold=None):\n",
    "    max_cluster = max(df.cluster)\n",
    "\n",
    "    n_total = df.shape[0]\n",
    "    if recycle_remde_delay==False:\n",
    "        n_total = df[(df.remdesivir != True) | (df.remde_delay <= remde_delay)].shape[0]\n",
    "    \n",
    "    rows = []\n",
    "    for cluster in range(1, max_cluster+1):\n",
    "        row = []\n",
    "        row.append(cluster) # cluster number\n",
    "        patients = df[df.cluster == cluster]\n",
    "        \n",
    "        remde = patients[patients.remdesivir == True] \n",
    "        no_remde = patients[patients.remdesivir != True] \n",
    "        if remde_delay:\n",
    "            remde = patients[(patients.remdesivir == True) & (patients.remde_delay <= remde_delay)]\n",
    "            if recycle_remde_delay:\n",
    "                no_remde = patients[(patients.remdesivir != True) | (patients.remde_delay > remde_delay)]\n",
    "                \n",
    "        if remde_dead_threshold!=None:\n",
    "            remde_dead_patients = remde[remde.x_dead_after_remde_days<remde_dead_threshold]\n",
    "            if not remde_dead_patients.empty:\n",
    "                print(f\"The following patients will move from remde to no remde:\")\n",
    "                display(remde_dead_patients)\n",
    "                remde = remde[remde.x_dead_after_remde_days>=remde_dead_threshold]\n",
    "                no_remde = pd.concat(no_remde, remde_dead_patients)\n",
    "                \n",
    "        total_remde = remde.shape[0]\n",
    "        total_no_remde = no_remde.shape[0]\n",
    "        n_cluster = total_remde + total_no_remde\n",
    "        row.append(n_cluster) # n of cluster\n",
    "        row.append(perc(n_cluster/n_total)) # % of total n\n",
    "        row.append(total_remde)\n",
    "        row.append(total_no_remde)\n",
    "        \n",
    "        perc_death_remde = f\"{sum(remde.dead_60d)} ({perc(sum(remde.dead_60d)/total_remde)}%)\" if total_remde else None\n",
    "        perc_death_no_remde = f\"{sum(no_remde.dead_60d)} ({perc(sum(no_remde.dead_60d)/total_no_remde)}%)\" if total_no_remde else None\n",
    "        total_death = sum(remde.dead_60d) + sum(no_remde.dead_60d)\n",
    "        total = total_remde + total_no_remde\n",
    "        perc_total_death = f\"{total_death} ({perc(total_death /(total))}%)\" if total else None\n",
    "        row.append(perc_death_remde)\n",
    "        row.append(perc_death_no_remde)\n",
    "        row.append(perc_total_death)\n",
    "        \n",
    "        stat, pvalue = None, None\n",
    "        if len(remde.dead_60d)>1 and len(no_remde.dead_60d)>1:\n",
    "            stat, pvalue = ttest_ind(list(remde.dead_60d), list(no_remde.dead_60d))\n",
    "            \n",
    "        row.append(pvalue)\n",
    "        row.append(stat)\n",
    "        \n",
    "        for stat_column in stat_columns:\n",
    "            remde_val = f\"({round(remde[stat_column].min(),1)}/{round(remde[stat_column].mean(),1)}/{round(remde[stat_column].max(),1)})\"\n",
    "            noremde_val = f\"({round(no_remde[stat_column].min(),1)}/{round(no_remde[stat_column].mean(),1)}/{round(no_remde[stat_column].max(),1)})\"\n",
    "            row.append(f\"{remde_val} / {noremde_val}\")\n",
    "            \n",
    "        rows.append(row)\n",
    "    \n",
    "    stats = pd.DataFrame(rows, columns=['cluster', 'n', '%', 'n Remde', 'n No Remde', '% Death Remde', '% Death No Remde', '% Death', 'pvalue', 'stat'] + stat_columns)\n",
    "    stats.set_index('cluster', inplace=True)\n",
    "    \n",
    "    return stats\n",
    "\n",
    "\n",
    "def normalize(df_orig):\n",
    "    df = df_orig.copy()\n",
    "    df.linfocitos = df_orig.linfocitos/(MAX_LINFOCITOS)\n",
    "    df.ct = df_orig.ct/MAX_CT\n",
    "    df.ddxcov = df_orig.ddxcov/MAX_DDXCOV\n",
    "    return df\n",
    "\n",
    "def add_cluster_column(df, k_centers, column_name='cluster', add_to=None):\n",
    "    if isinstance(add_to, None.__class__):\n",
    "        add_to = df.copy()\n",
    "    values = df[['ct', 'ddxcov', 'linfocitos']]\n",
    "    \n",
    "    # Iterate through the entries\n",
    "    clusters = []\n",
    "    for i in range(0,len(values)):\n",
    "        distances = []\n",
    "        # Compute distance to 6 centers\n",
    "        pn = values.iloc[i]\n",
    "        for j in range(0, len(k_centers)):\n",
    "            center = k_centers.iloc[j]\n",
    "            distance = np.linalg.norm(pn - center)\n",
    "            distances.append(distance)\n",
    "\n",
    "        clusters.append(distances.index(min(distances))+1)\n",
    "\n",
    "    add_to.insert(0, column_name, clusters)\n",
    "    return add_to\n",
    "\n",
    "# Same as before with another k_centers format\n",
    "def sci_add_cluster_column(df, k_centers, column_name='cluster', add_to=None):\n",
    "    if isinstance(add_to, None.__class__):\n",
    "        add_to = df.copy()\n",
    "    values = df[['ct', 'ddxcov', 'linfocitos']]\n",
    "    \n",
    "    # Iterate through the entries\n",
    "    clusters = []\n",
    "    for i in range(0,len(values)):\n",
    "        distances = []\n",
    "        # Compute distance to 6 centers\n",
    "        pn = values.iloc[i]\n",
    "        for j in range(0, k_centers.shape[0]):\n",
    "            center = k_centers[j]\n",
    "            distance = np.linalg.norm(pn - center)\n",
    "            distances.append(distance)\n",
    "\n",
    "        clusters.append(distances.index(min(distances))+1)\n",
    "\n",
    "    add_to.insert(0, column_name, clusters)\n",
    "    return add_to\n",
    "\n",
    "def from01toTrueFalse(df, columns):\n",
    "    df2 = df.copy()\n",
    "    for column in columns:\n",
    "        df2[column] = False\n",
    "        mask = df[column] == 1\n",
    "        df2.loc[mask,column] = True\n",
    "    return df2\n",
    "\n",
    "def show(df, col, cluster=3):\n",
    "    df1 = df.loc[df.cluster == cluster, col]\n",
    "    print(\"mean: \", df1.mean())\n",
    "    print(\"\\nquartiles: \\n\", df1.quantile([0.25,0.5,0.75]))   \n",
    "\n",
    "def show2(df1, df2, col, cluster=3):\n",
    "    df1 = df1.loc[df1.cluster == cluster, col]\n",
    "    df2 = df2.loc[df2.cluster == cluster, col]\n",
    "    print(ttest_ind(df1, df2))\n",
    "    print(\"mean: \", df1.mean(), df2.mean())\n",
    "    print(\"\\nquartiles: \\n\", df1.quantile([0.25,0.5,0.75]), \"\\n\", df2.quantile([0.25,0.5,0.75]))\n",
    "    "
   ]
  },
  {
   "cell_type": "markdown",
   "id": "f9dbf14d-dfb9-41b2-8507-2f68c4154747",
   "metadata": {
    "tags": []
   },
   "source": [
    "# Load data"
   ]
  },
  {
   "attachments": {},
   "cell_type": "markdown",
   "id": "3c543a24-2d1a-4687-bd58-2f0cbb7c0412",
   "metadata": {
    "jp-MarkdownHeadingCollapsed": true,
    "tags": []
   },
   "source": [
    "## Drop deads at Remde start"
   ]
  },
  {
   "attachments": {},
   "cell_type": "markdown",
   "id": "e1c424d8",
   "metadata": {},
   "source": [
    "# Scratchpad"
   ]
  },
  {
   "cell_type": "code",
   "execution_count": 30,
   "id": "f1e26e27",
   "metadata": {},
   "outputs": [
    {
     "data": {
      "text/plain": [
       "(902, 14)"
      ]
     },
     "execution_count": 30,
     "metadata": {},
     "output_type": "execute_result"
    }
   ],
   "source": [
    "mt_val.shape"
   ]
  },
  {
   "cell_type": "code",
   "execution_count": null,
   "id": "89bf875c",
   "metadata": {},
   "outputs": [],
   "source": []
  }
 ],
 "metadata": {
  "kernelspec": {
   "display_name": "ds",
   "language": "python",
   "name": "python3"
  },
  "language_info": {
   "codemirror_mode": {
    "name": "ipython",
    "version": 3
   },
   "file_extension": ".py",
   "mimetype": "text/x-python",
   "name": "python",
   "nbconvert_exporter": "python",
   "pygments_lexer": "ipython3",
   "version": "3.10.8 | packaged by conda-forge | (main, Nov 22 2022, 08:26:04) [GCC 10.4.0]"
  },
  "toc-autonumbering": true,
  "toc-showmarkdowntxt": false,
  "toc-showtags": false,
  "vscode": {
   "interpreter": {
    "hash": "7a51dc73664dba03a0b0fffc3bdd7e67004f67f70540c89383a467e86f0d6fc9"
   }
  }
 },
 "nbformat": 4,
 "nbformat_minor": 5
}
